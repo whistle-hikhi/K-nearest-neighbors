{
  "nbformat": 4,
  "nbformat_minor": 0,
  "metadata": {
    "colab": {
      "provenance": [],
      "gpuType": "T4",
      "authorship_tag": "ABX9TyMzPs4bUd6Rhr36G0vnP2hv",
      "include_colab_link": true
    },
    "kernelspec": {
      "name": "python3",
      "display_name": "Python 3"
    },
    "language_info": {
      "name": "python"
    },
    "accelerator": "GPU"
  },
  "cells": [
    {
      "cell_type": "markdown",
      "metadata": {
        "id": "view-in-github",
        "colab_type": "text"
      },
      "source": [
        "<a href=\"https://colab.research.google.com/github/whistle-hikhi/K-nearest-neighbors/blob/main/KD_tree_knn.ipynb\" target=\"_parent\"><img src=\"https://colab.research.google.com/assets/colab-badge.svg\" alt=\"Open In Colab\"/></a>"
      ]
    },
    {
      "cell_type": "code",
      "execution_count": 1,
      "metadata": {
        "colab": {
          "base_uri": "https://localhost:8080/"
        },
        "id": "AFQJN0Uy2UCh",
        "outputId": "b80fe6a1-e336-47e5-9205-20abc957227d"
      },
      "outputs": [
        {
          "output_type": "stream",
          "name": "stdout",
          "text": [
            "/bin/bash: line 1: nvdia-smi: command not found\n"
          ]
        }
      ],
      "source": [
        "!nvdia-smi"
      ]
    },
    {
      "cell_type": "code",
      "source": [
        "%load_ext cuml.accel"
      ],
      "metadata": {
        "colab": {
          "base_uri": "https://localhost:8080/"
        },
        "id": "nbd2Ftz53Jvb",
        "outputId": "770b9d1d-b6e7-465a-c341-a3c637036018"
      },
      "execution_count": 2,
      "outputs": [
        {
          "output_type": "stream",
          "name": "stdout",
          "text": [
            "[2025-04-01 05:40:33.514] [CUML] [info] cuML: Installed accelerator for sklearn.\n",
            "[2025-04-01 05:41:00.409] [CUML] [info] cuML: Installed accelerator for umap.\n",
            "[2025-04-01 05:41:00.504] [CUML] [info] cuML: Installed accelerator for hdbscan.\n",
            "[2025-04-01 05:41:00.504] [CUML] [info] cuML: Successfully initialized accelerator.\n"
          ]
        }
      ]
    },
    {
      "cell_type": "code",
      "source": [
        "import numpy as np\n",
        "from collections import namedtuple\n",
        "import heapq"
      ],
      "metadata": {
        "id": "3aBh-or03XMz"
      },
      "execution_count": 3,
      "outputs": []
    },
    {
      "cell_type": "code",
      "source": [
        "Node = namedtuple('Node', ['point', 'value', 'left', 'right'])"
      ],
      "metadata": {
        "id": "H18xXuJH3yVJ"
      },
      "execution_count": 13,
      "outputs": []
    },
    {
      "cell_type": "code",
      "source": [
        "class KDTreeKNN:\n",
        "  def __init__(self, k=3):\n",
        "    self.k = k\n",
        "    self.root = None\n",
        "    self.dim = None\n",
        "\n",
        "  def build_tree(self, points, values, depth=0):\n",
        "    if len(points) == 0:\n",
        "      return None\n",
        "\n",
        "    k = points.shape[1]\n",
        "    axis = depth % k\n",
        "\n",
        "    sorted_idx = np.argsort(points[:, axis])\n",
        "    points = points[sorted_idx]\n",
        "    values = values[sorted_idx]\n",
        "    median = len(points) // 2\n",
        "\n",
        "    return Node(\n",
        "        point=points[median],\n",
        "        value=values[median],\n",
        "        left=self.build_tree(points[:median], values[:median], depth + 1),\n",
        "        right=self.build_tree(points[median + 1:], values[median + 1:], depth + 1)\n",
        "    )\n",
        "\n",
        "\n",
        "  def fit(self, X, y):\n",
        "    self.dim = X.shape[1]\n",
        "    self.root = self.build_tree(X, y)\n",
        "\n",
        "  def distance(self, p1, p2):\n",
        "    return np.sqrt(np.sum((p1 - p2) ** 2))\n",
        "\n",
        "  def nearest_neighbors(self, node, point, k, depth=0, neighbors=None):\n",
        "    if neighbors is None:\n",
        "      neighbors = []\n",
        "    if node is None:\n",
        "      return neighbors\n",
        "    axis = depth % self.dim\n",
        "    dist = self.distance(point, node.point)\n",
        "\n",
        "    heapq.heappush(neighbors, (-dist, node.value))\n",
        "\n",
        "    if len(neighbors) > k:\n",
        "      heapq.heappop(neighbors)\n",
        "\n",
        "    if point[axis] < node.point[axis]:\n",
        "      near, far = node.left, node.right\n",
        "    else:\n",
        "      near, far = node.right, node.left\n",
        "\n",
        "\n",
        "    neighbors = self.nearest_neighbors(near, point, k , depth + 1, neighbors)\n",
        "\n",
        "    if len(neighbors) < k or - neighbors[0][0] > abs(point[axis] - node.point[axis]):\n",
        "      neighbors = self.nearest_neighbors(far, point, k, depth + 1, neighbors)\n",
        "\n",
        "    return neighbors\n",
        "\n",
        "  def predict(self, X_test):\n",
        "    predictions = []\n",
        "    for point in X_test:\n",
        "      neighbors = self.nearest_neighbors(self.root, point, self.k)\n",
        "      pred = np.mean([val for _, val in neighbors])\n",
        "      predictions.append(pred)\n",
        "\n",
        "    return np.array(predictions)"
      ],
      "metadata": {
        "id": "nd2G4e5L38-q"
      },
      "execution_count": 14,
      "outputs": []
    },
    {
      "cell_type": "code",
      "source": [
        "np.random.seed(16)\n",
        "\n",
        "X_train = np.array([\n",
        "        [1, 2], [2, 3], [3, 1],\n",
        "        [6, 5], [7, 8], [8, 7]\n",
        "    ])\n",
        "\n",
        "y_train = np.array([1.5, 2.0, 1.8, 3.5, 4.0, 3.8])\n",
        "\n",
        "X_test = np.array([[4, 3], [5, 6]])"
      ],
      "metadata": {
        "id": "H9kO5Lt-6qw3"
      },
      "execution_count": 15,
      "outputs": []
    },
    {
      "cell_type": "code",
      "source": [
        "knn = KDTreeKNN(k=3)\n",
        "knn.fit(X_train, y_train)\n",
        "\n",
        "predictions = knn.predict(X_test)"
      ],
      "metadata": {
        "id": "4rXuYpUQ7J8z"
      },
      "execution_count": 16,
      "outputs": []
    },
    {
      "cell_type": "code",
      "source": [
        "print('Test points:', X_test)\n",
        "print('Predictions:', predictions)"
      ],
      "metadata": {
        "colab": {
          "base_uri": "https://localhost:8080/"
        },
        "id": "DMPI1CQE7T7f",
        "outputId": "262862f6-9fc0-4ca0-bd3d-9d0948fa9567"
      },
      "execution_count": 17,
      "outputs": [
        {
          "output_type": "stream",
          "name": "stdout",
          "text": [
            "Test points: [[4 3]\n",
            " [5 6]]\n",
            "Predictions: [2.43333333 3.76666667]\n"
          ]
        }
      ]
    },
    {
      "cell_type": "code",
      "source": [
        "import matplotlib.pyplot as plt\n",
        "\n",
        "plt.scatter(X_train[:, 0], X_train[:, 1], c=y_train, cmap='viridis', label='Training points')\n",
        "plt.scatter(X_test[:, 0], X_test[:, 1], c=predictions, cmap='viridis', marker='*', s=200, label='Test points')\n",
        "plt.colorbar(label='Value')\n",
        "plt.legend()\n",
        "plt.title('KD-Tree KNN Regression')\n",
        "plt.xlabel('Feat 1')\n",
        "plt.ylabel('Feat 2')\n",
        "plt.show()"
      ],
      "metadata": {
        "colab": {
          "base_uri": "https://localhost:8080/",
          "height": 472
        },
        "id": "DcFVW7fL79XD",
        "outputId": "f7873e77-1f06-4c4e-ef7e-fe4468a64cf7"
      },
      "execution_count": 18,
      "outputs": [
        {
          "output_type": "display_data",
          "data": {
            "text/plain": [
              "<Figure size 640x480 with 2 Axes>"
            ],
            "image/png": "[encoded data removed]"
          },
          "metadata": {}
        }
      ]
    },
    {
      "cell_type": "code",
      "source": [],
      "metadata": {
        "id": "BIWs6W-W8n1l"
      },
      "execution_count": null,
      "outputs": []
    }
  ]
}