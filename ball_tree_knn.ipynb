{
  "nbformat": 4,
  "nbformat_minor": 0,
  "metadata": {
    "colab": {
      "provenance": [],
      "authorship_tag": "ABX9TyMDF3b67CPaOpicv93uljPH",
      "include_colab_link": true
    },
    "kernelspec": {
      "name": "python3",
      "display_name": "Python 3"
    },
    "language_info": {
      "name": "python"
    }
  },
  "cells": [
    {
      "cell_type": "markdown",
      "metadata": {
        "id": "view-in-github",
        "colab_type": "text"
      },
      "source": [
        "<a href=\"https://colab.research.google.com/github/whistle-hikhi/K-nearest-neighbors/blob/main/ball_tree_knn.ipynb\" target=\"_parent\"><img src=\"https://colab.research.google.com/assets/colab-badge.svg\" alt=\"Open In Colab\"/></a>"
      ]
    },
    {
      "cell_type": "code",
      "execution_count": null,
      "metadata": {
        "id": "HhSWIjfb_nfV"
      },
      "outputs": [],
      "source": [
        "!nvidia-smi"
      ]
    },
    {
      "cell_type": "code",
      "source": [
        "%load_ext cuml.accel"
      ],
      "metadata": {
        "id": "uXSN5EVKAuUO"
      },
      "execution_count": null,
      "outputs": []
    },
    {
      "cell_type": "code",
      "source": [
        "import numpy as np\n",
        "from collections import namedtuple\n",
        "import heapq"
      ],
      "metadata": {
        "id": "B9S0jki1AzA2"
      },
      "execution_count": 1,
      "outputs": []
    },
    {
      "cell_type": "code",
      "source": [
        "BallNode = namedtuple('BallNode', ['centroid', 'radius', 'points', 'values', 'left', 'right'])"
      ],
      "metadata": {
        "id": "zJ-9-T4tA6jt"
      },
      "execution_count": 2,
      "outputs": []
    },
    {
      "cell_type": "code",
      "source": [
        "\n",
        "class BallTreeKNN:\n",
        "    def __init__(self, k=3, leaf_size=2):\n",
        "        self.k = k\n",
        "        self.leaf_size = leaf_size\n",
        "        self.root = None\n",
        "        self.dim = None\n",
        "\n",
        "    def distance(self, p1, p2):\n",
        "        \"\"\"Euclidean distance\"\"\"\n",
        "        return np.sqrt(np.sum((p1 - p2) ** 2))\n",
        "\n",
        "    def build_tree(self, points, values):\n",
        "        \"\"\"Build the Ball Tree recursively\"\"\"\n",
        "        if len(points) <= self.leaf_size:\n",
        "            centroid = np.mean(points, axis=0)\n",
        "            radius = max(self.distance(centroid, p) for p in points) if len(points) > 0 else 0\n",
        "            return BallNode(centroid, radius, points, values, None, None)\n",
        "\n",
        "        # Find centroid and split points\n",
        "        centroid = np.mean(points, axis=0)\n",
        "        distances = np.array([self.distance(centroid, p) for p in points])\n",
        "        median_idx = np.argsort(distances)\n",
        "\n",
        "        mid = len(points) // 2\n",
        "        left_points = points[median_idx[:mid]]\n",
        "        right_points = points[median_idx[mid:]]\n",
        "        left_values = values[median_idx[:mid]]\n",
        "        right_values = values[median_idx[mid:]]\n",
        "\n",
        "        radius = max(distances) if len(distances) > 0 else 0\n",
        "\n",
        "        return BallNode(\n",
        "            centroid=centroid,\n",
        "            radius=radius,\n",
        "            points=points,\n",
        "            values=values,\n",
        "            left=self.build_tree(left_points, left_values),\n",
        "            right=self.build_tree(right_points, right_values)\n",
        "        )\n",
        "\n",
        "    def fit(self, X, y):\n",
        "        \"\"\"Build Ball Tree from training data\"\"\"\n",
        "        self.dim = X.shape[1]\n",
        "        self.root = self.build_tree(X, y)\n",
        "\n",
        "    def nearest_neighbors(self, node, point, k, neighbors=None):\n",
        "        \"\"\"Find k nearest neighbors\"\"\"\n",
        "        if neighbors is None:\n",
        "            neighbors = []  # max heap (negative distances)\n",
        "\n",
        "        if node is None:\n",
        "            return neighbors\n",
        "\n",
        "        # If leaf node, check all points\n",
        "        if node.left is None and node.right is None:\n",
        "            for p, v in zip(node.points, node.values):\n",
        "                dist = self.distance(point, p)\n",
        "                heapq.heappush(neighbors, (-dist, v))\n",
        "                if len(neighbors) > k:\n",
        "                    heapq.heappop(neighbors)\n",
        "            return neighbors\n",
        "\n",
        "        # Distance to centroid\n",
        "        dist_to_centroid = self.distance(point, node.centroid)\n",
        "\n",
        "        # Check both children based on distance bounds\n",
        "        left_dist = self.distance(point, node.left.centroid) - node.left.radius\n",
        "        right_dist = self.distance(point, node.right.centroid) - node.right.radius\n",
        "\n",
        "        # Search closer child first\n",
        "        if left_dist < right_dist:\n",
        "            near, far = node.left, node.right\n",
        "        else:\n",
        "            near, far = node.right, node.left\n",
        "\n",
        "        neighbors = self.nearest_neighbors(near, point, k, neighbors)\n",
        "\n",
        "        # Check if far child needs to be searched\n",
        "        min_dist = -neighbors[0][0] if neighbors else float('inf')\n",
        "        if dist_to_centroid - node.radius <= min_dist:\n",
        "            neighbors = self.nearest_neighbors(far, point, k, neighbors)\n",
        "\n",
        "        return neighbors\n",
        "\n",
        "    def predict(self, X_test):\n",
        "        \"\"\"Make predictions\"\"\"\n",
        "        predictions = []\n",
        "        for point in X_test:\n",
        "            neighbors = self.nearest_neighbors(self.root, point, self.k)\n",
        "            pred = np.mean([val for _, val in neighbors])\n",
        "            predictions.append(pred)\n",
        "        return np.array(predictions)\n",
        "\n"
      ],
      "metadata": {
        "id": "Rr8qJ9JEBGxG"
      },
      "execution_count": 16,
      "outputs": []
    },
    {
      "cell_type": "code",
      "source": [
        "np.random.seed(42)\n",
        "X_train = np.array([\n",
        "    [1, 2], [2, 3], [3, 1],\n",
        "    [6, 5], [7, 8], [8, 7]\n",
        "])\n",
        "y_train = np.array([1.5, 2.0, 1.8, 3.5, 4.0, 3.8])\n",
        "\n",
        "X_test = np.array([[4, 3], [5, 6]])\n",
        "\n",
        "# Create and train model\n",
        "knn = BallTreeKNN(k=3, leaf_size=2)\n",
        "knn.fit(X_train, y_train)\n",
        "\n",
        "# Make predictions\n",
        "predictions = knn.predict(X_test)\n",
        "\n",
        "# Print results\n",
        "print(\"Test points:\", X_test)\n",
        "print(\"Predictions:\", predictions)\n",
        "\n"
      ],
      "metadata": {
        "colab": {
          "base_uri": "https://localhost:8080/"
        },
        "id": "JKhGgasjEvvn",
        "outputId": "361a0edd-6eb1-43f6-ac1f-775f78d4d0f3"
      },
      "execution_count": 17,
      "outputs": [
        {
          "output_type": "stream",
          "name": "stdout",
          "text": [
            "Test points: [[4 3]\n",
            " [5 6]]\n",
            "Predictions: [2.43333333 3.76666667]\n"
          ]
        }
      ]
    },
    {
      "cell_type": "code",
      "source": [
        "import matplotlib.pyplot as plt\n",
        "plt.scatter(X_train[:, 0], X_train[:, 1], c=y_train,\n",
        "            cmap='viridis', label='Training points')\n",
        "plt.scatter(X_test[:, 0], X_test[:, 1], c=predictions,\n",
        "            cmap='viridis', marker='*', s=200, label='Test points')\n",
        "plt.colorbar(label='Value')\n",
        "plt.legend()\n",
        "plt.title('Ball Tree KNN Regression')\n",
        "plt.xlabel('Feature 1')\n",
        "plt.ylabel('Feature 2')\n",
        "plt.show()"
      ],
      "metadata": {
        "colab": {
          "base_uri": "https://localhost:8080/",
          "height": 472
        },
        "id": "UEqY7ZrNE8D1",
        "outputId": "c8df7e1b-fe3a-4c48-a333-7d0abb3a1ab3"
      },
      "execution_count": 18,
      "outputs": [
        {
          "output_type": "display_data",
          "data": {
            "text/plain": [
              "<Figure size 640x480 with 2 Axes>"
            ],
            "image/png": "[encoded data removed]"
          },
          "metadata": {}
        }
      ]
    }
  ]
}