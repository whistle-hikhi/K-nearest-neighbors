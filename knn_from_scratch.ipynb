{
  "nbformat": 4,
  "nbformat_minor": 0,
  "metadata": {
    "colab": {
      "provenance": [],
      "gpuType": "T4",
      "authorship_tag": "ABX9TyOcy3VQr42UJEZkRlUur/mt",
      "include_colab_link": true
    },
    "kernelspec": {
      "name": "python3",
      "display_name": "Python 3"
    },
    "language_info": {
      "name": "python"
    },
    "accelerator": "GPU"
  },
  "cells": [
    {
      "cell_type": "markdown",
      "metadata": {
        "id": "view-in-github",
        "colab_type": "text"
      },
      "source": [
        "<a href=\"https://colab.research.google.com/github/whistle-hikhi/K-nearest-neighbors/blob/main/knn_from_scratch.ipynb\" target=\"_parent\"><img src=\"https://colab.research.google.com/assets/colab-badge.svg\" alt=\"Open In Colab\"/></a>"
      ]
    },
    {
      "cell_type": "code",
      "source": [
        "import numpy as np\n",
        "from collections import Counter\n",
        "from sklearn.datasets import load_iris\n",
        "from sklearn.model_selection import train_test_split\n",
        "\n",
        "class KNN:\n",
        "    def __init__(self, k=3):\n",
        "      self.k = k\n",
        "\n",
        "    def fit(self, X, y):\n",
        "      self.X_train = X\n",
        "      self.y_train = y\n",
        "\n",
        "    def euclidean_distance(self, x1, x2):\n",
        "      return np.sqrt(np.sum((x1 - x2)**2))\n",
        "\n",
        "    def predict(self, X):\n",
        "      pred = [self._predict(x) for x in X]\n",
        "      return np.array(pred)\n",
        "\n",
        "    def _predict(self, x):\n",
        "      distances = [self.euclidean_distance(x, x_train) for x_train in self.X_train]\n",
        "      k_indices = np.argsort(distances)[:self.k]\n",
        "\n",
        "      k_nearest_labels = [self.y_train[i] for i in k_indices]\n",
        "\n",
        "      most_common = Counter(k_nearest_labels).most_common(1)\n",
        "      return most_common[0][0]"
      ],
      "metadata": {
        "id": "Gfc6Rxgvxb6B"
      },
      "execution_count": 4,
      "outputs": []
    },
    {
      "cell_type": "code",
      "source": [
        "iris = load_iris()\n",
        "X, y = iris.data, iris.target\n",
        "\n",
        "X_train, X_test, y_train, y_test = train_test_split(X, y, test_size=0.2, random_state=42)"
      ],
      "metadata": {
        "id": "mCesVAGdzsZp"
      },
      "execution_count": 6,
      "outputs": []
    },
    {
      "cell_type": "code",
      "source": [
        "knn = KNN(k=3)\n",
        "knn.fit(X_train, y_train)"
      ],
      "metadata": {
        "id": "R3mExeH4z3ct"
      },
      "execution_count": 7,
      "outputs": []
    },
    {
      "cell_type": "code",
      "source": [
        "predictions = knn.predict(X_test)"
      ],
      "metadata": {
        "id": "YIa6G0CJ0Jq5"
      },
      "execution_count": 8,
      "outputs": []
    },
    {
      "cell_type": "code",
      "source": [
        "accuracy = np.mean(predictions == y_test)\n",
        "print(f\"Prediction from scratch: {predictions}\")\n",
        "print(f\"Actual labels: {y_test}\")\n",
        "print(f\"Accuracy: {accuracy}\")"
      ],
      "metadata": {
        "colab": {
          "base_uri": "https://localhost:8080/"
        },
        "id": "7L-8J5xd0Nlh",
        "outputId": "bf522717-e0aa-4dd4-bbea-9b5cda061caf"
      },
      "execution_count": 9,
      "outputs": [
        {
          "output_type": "stream",
          "name": "stdout",
          "text": [
            "Prediction from scratch: [1 0 2 1 1 0 1 2 1 1 2 0 0 0 0 1 2 1 1 2 0 2 0 2 2 2 2 2 0 0]\n",
            "Actual labels: [1 0 2 1 1 0 1 2 1 1 2 0 0 0 0 1 2 1 1 2 0 2 0 2 2 2 2 2 0 0]\n",
            "Accuracy: 1.0\n"
          ]
        }
      ]
    },
    {
      "cell_type": "code",
      "source": [
        "class_names = iris.target_names\n",
        "print(\"Samples predictions\")\n",
        "for i in range(min(5, len(predictions))):\n",
        "  print(f\"{i+1}. {class_names[predictions[i]]}\")"
      ],
      "metadata": {
        "colab": {
          "base_uri": "https://localhost:8080/"
        },
        "id": "MQty4IeR0gAh",
        "outputId": "62101c32-5b51-49b8-d314-b6027780a40a"
      },
      "execution_count": 10,
      "outputs": [
        {
          "output_type": "stream",
          "name": "stdout",
          "text": [
            "Samples predictions\n",
            "1. versicolor\n",
            "2. setosa\n",
            "3. virginica\n",
            "4. versicolor\n",
            "5. versicolor\n"
          ]
        }
      ]
    },
    {
      "cell_type": "code",
      "source": [],
      "metadata": {
        "id": "DVH_kVCA0tft"
      },
      "execution_count": null,
      "outputs": []
    }
  ]
}