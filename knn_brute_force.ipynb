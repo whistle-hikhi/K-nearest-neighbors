{
  "nbformat": 4,
  "nbformat_minor": 0,
  "metadata": {
    "colab": {
      "provenance": [],
      "gpuType": "T4",
      "authorship_tag": "ABX9TyOtZ7xIykspfsILAdmPv8d2",
      "include_colab_link": true
    },
    "kernelspec": {
      "name": "python3",
      "display_name": "Python 3"
    },
    "language_info": {
      "name": "python"
    },
    "accelerator": "GPU"
  },
  "cells": [
    {
      "cell_type": "markdown",
      "metadata": {
        "id": "view-in-github",
        "colab_type": "text"
      },
      "source": [
        "<a href=\"https://colab.research.google.com/github/whistle-hikhi/K-nearest-neighbors/blob/main/knn_brute_force.ipynb\" target=\"_parent\"><img src=\"https://colab.research.google.com/assets/colab-badge.svg\" alt=\"Open In Colab\"/></a>"
      ]
    },
    {
      "cell_type": "code",
      "execution_count": 1,
      "metadata": {
        "colab": {
          "base_uri": "https://localhost:8080/"
        },
        "id": "Vx_tA-wcj5a4",
        "outputId": "2ed50fb2-5ffd-4541-b668-fe8dadbd8419"
      },
      "outputs": [
        {
          "output_type": "stream",
          "name": "stdout",
          "text": [
            "Tue Apr  1 05:33:42 2025       \n",
            "+-----------------------------------------------------------------------------------------+\n",
            "| NVIDIA-SMI 550.54.15              Driver Version: 550.54.15      CUDA Version: 12.4     |\n",
            "|-----------------------------------------+------------------------+----------------------+\n",
            "| GPU  Name                 Persistence-M | Bus-Id          Disp.A | Volatile Uncorr. ECC |\n",
            "| Fan  Temp   Perf          Pwr:Usage/Cap |           Memory-Usage | GPU-Util  Compute M. |\n",
            "|                                         |                        |               MIG M. |\n",
            "|=========================================+========================+======================|\n",
            "|   0  Tesla T4                       Off |   00000000:00:04.0 Off |                    0 |\n",
            "| N/A   64C    P8             12W /   70W |       0MiB /  15360MiB |      0%      Default |\n",
            "|                                         |                        |                  N/A |\n",
            "+-----------------------------------------+------------------------+----------------------+\n",
            "                                                                                         \n",
            "+-----------------------------------------------------------------------------------------+\n",
            "| Processes:                                                                              |\n",
            "|  GPU   GI   CI        PID   Type   Process name                              GPU Memory |\n",
            "|        ID   ID                                                               Usage      |\n",
            "|=========================================================================================|\n",
            "|  No running processes found                                                             |\n",
            "+-----------------------------------------------------------------------------------------+\n"
          ]
        }
      ],
      "source": [
        "!nvidia-smi"
      ]
    },
    {
      "cell_type": "code",
      "source": [
        "%load_ext cuml.accel"
      ],
      "metadata": {
        "colab": {
          "base_uri": "https://localhost:8080/"
        },
        "id": "MUBrUaonkEXU",
        "outputId": "2a1234a4-d8ff-4486-a029-e529dd6dfe7d"
      },
      "execution_count": 2,
      "outputs": [
        {
          "output_type": "stream",
          "name": "stdout",
          "text": [
            "[2025-04-01 05:34:02.013] [CUML] [info] cuML: Installed accelerator for sklearn.\n",
            "[2025-04-01 05:34:34.291] [CUML] [info] cuML: Installed accelerator for umap.\n",
            "[2025-04-01 05:34:34.400] [CUML] [info] cuML: Installed accelerator for hdbscan.\n",
            "[2025-04-01 05:34:34.400] [CUML] [info] cuML: Successfully initialized accelerator.\n"
          ]
        }
      ]
    },
    {
      "cell_type": "code",
      "source": [
        "import numpy as np\n",
        "from collections import Counter"
      ],
      "metadata": {
        "id": "0rN_KFxLkHBF"
      },
      "execution_count": 3,
      "outputs": []
    },
    {
      "cell_type": "code",
      "source": [
        "class BruteForecKNN:\n",
        "  def __init__(self, k=3):\n",
        "    self.k = k\n",
        "    self.X_train = None\n",
        "    self.y_train = None\n",
        "\n",
        "  def fit(self, X, y):\n",
        "    self.X_train = X\n",
        "    self.y_train = y\n",
        "\n",
        "  def euclidean_distance(self, x1, x2):\n",
        "    return np.sqrt(np.sum(x1 - x2) ** 2)\n",
        "\n",
        "  def predict(self, X_test):\n",
        "    predictions = []\n",
        "\n",
        "    for x_test in X_test:\n",
        "      distances = []\n",
        "      for i, x_train in enumerate(self.X_train):\n",
        "        dist = self.euclidean_distance(x_test, x_train)\n",
        "        distances.append((dist, self.y_train[i]))\n",
        "\n",
        "      distances.sort(key=lambda x: x[0])\n",
        "      k_nearest = distances[:self.k]\n",
        "\n",
        "      prediction = np.mean([y for _, y in k_nearest])\n",
        "      predictions.append(prediction)\n",
        "\n",
        "    return np.array(predictions)\n"
      ],
      "metadata": {
        "id": "YALCLzoxkPgX"
      },
      "execution_count": 4,
      "outputs": []
    },
    {
      "cell_type": "code",
      "source": [
        "np.random.seed(16)\n",
        "\n",
        "X_train = np.array([\n",
        "    [1, 2],\n",
        "    [2, 3],\n",
        "    [3, 1],\n",
        "    [6, 5],\n",
        "    [7, 9],\n",
        "    [3, 6]])\n",
        "\n",
        "y_train  = np.array([1.5, 2.0, 1.8, 4.2, 8.2, 1.2])\n",
        "\n",
        "\n",
        "X_test = np.array(\n",
        "    [\n",
        "        [4, 3],\n",
        "        [5, 7]\n",
        "  ]\n",
        ")"
      ],
      "metadata": {
        "id": "6nhWA5bClYu8"
      },
      "execution_count": 5,
      "outputs": []
    },
    {
      "cell_type": "code",
      "source": [
        "knn = BruteForecKNN(k=3)\n",
        "knn.fit(X_train, y_train)\n",
        "\n",
        "predictions = knn.predict(X_test)"
      ],
      "metadata": {
        "id": "_xG0Q_7Dlbl9"
      },
      "execution_count": 6,
      "outputs": []
    },
    {
      "cell_type": "code",
      "source": [
        "print(\"Test points\", X_test)\n",
        "print(\"Preditions\", predictions)"
      ],
      "metadata": {
        "colab": {
          "base_uri": "https://localhost:8080/"
        },
        "id": "IrB6915DmEGP",
        "outputId": "6349393a-d39c-468f-d5a3-7c9d1ac70ab2"
      },
      "execution_count": 7,
      "outputs": [
        {
          "output_type": "stream",
          "name": "stdout",
          "text": [
            "Test points [[4 3]\n",
            " [5 7]]\n",
            "Preditions [1.66666667 4.53333333]\n"
          ]
        }
      ]
    },
    {
      "cell_type": "code",
      "source": [
        "import matplotlib.pyplot as plt\n",
        "\n",
        "plt.scatter(X_train[:, 0], X_train[:, 1], c=y_train, cmap='viridis', label='Training points')\n",
        "plt.scatter(X_test[:, 0], X_test[:, 1], c=predictions, cmap='viridis', marker='*', s=200, label='Test points')\n",
        "\n",
        "plt.colorbar(label='Value')\n",
        "plt.legend()\n",
        "plt.title('Brute force KNN Regression')\n",
        "plt.xlabel('Feature 1')\n",
        "plt.ylabel('Feature 2')\n",
        "plt.show()\n"
      ],
      "metadata": {
        "colab": {
          "base_uri": "https://localhost:8080/",
          "height": 472
        },
        "id": "oCSMfqkamRgk",
        "outputId": "c61c7316-1380-440f-ff71-4aeaa616ae19"
      },
      "execution_count": 8,
      "outputs": [
        {
          "output_type": "display_data",
          "data": {
            "text/plain": [
              "<Figure size 640x480 with 2 Axes>"
            ],
            "image/png": "[encoded data removed]"
          },
          "metadata": {}
        }
      ]
    }
  ]
}